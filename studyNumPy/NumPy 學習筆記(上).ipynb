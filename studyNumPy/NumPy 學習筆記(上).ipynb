{
 "cells": [
  {
   "cell_type": "markdown",
   "id": "b0a65d7e",
   "metadata": {},
   "source": [
    "[{DAY 12} NumPy 學習筆記(上） - iT 邦幫忙::一起幫忙解決難題，拯救 IT 人的一天](https://ithelp.ithome.com.tw/articles/10262518)\n",
    "首先要先import 套件\n",
    "```\n",
    "import numpy as np\n",
    "```"
   ]
  },
  {
   "cell_type": "code",
   "execution_count": 3,
   "id": "5c4e4e56",
   "metadata": {},
   "outputs": [
    {
     "name": "stdout",
     "output_type": "stream",
     "text": [
      "[1 2 3]\n",
      "[[5 3 6 7 1]\n",
      " [1 2 3 4 5]]\n",
      "[ 3.     5.    10.    21.    42.195]\n"
     ]
    }
   ],
   "source": [
    "import numpy as np\n",
    "# 建立一維陣列\n",
    "a=np.array([1,2,3])\n",
    "print(a)\n",
    "\n",
    "# 建立二維陣列\n",
    "b= np.array([[5,3,6,7,1],[1,2,3,4,5]])\n",
    "print(b)\n",
    "\n",
    "#將list 換成numpy array:\n",
    "km_list =[3,5,10,21,42.195]\n",
    "km_array=np.array(km_list)\n",
    "print(km_array)"
   ]
  },
  {
   "cell_type": "markdown",
   "id": "5804eb08",
   "metadata": {},
   "source": [
    "產生指定數字範圍的陣列：np.arange(起始,結束)"
   ]
  },
  {
   "cell_type": "code",
   "execution_count": 4,
   "id": "6da4ba51",
   "metadata": {},
   "outputs": [
    {
     "name": "stdout",
     "output_type": "stream",
     "text": [
      "[0 1 2 3 4 5 6 7 8 9]\n",
      "[ 3  4  5  6  7  8  9 10]\n"
     ]
    }
   ],
   "source": [
    "import numpy as np\n",
    "# 產生數字範圍\n",
    "arr1=np.arange(10) #從0到9\n",
    "print(arr1)\n",
    "arr2=np.arange(3,11)\n",
    "print(arr2)"
   ]
  },
  {
   "cell_type": "markdown",
   "id": "78fc5f5e",
   "metadata": {},
   "source": [
    "產生都是1或都是0的陣列：np.zeros(), np.ones()"
   ]
  },
  {
   "cell_type": "code",
   "execution_count": 6,
   "id": "6bb0f46e",
   "metadata": {},
   "outputs": [
    {
     "name": "stdout",
     "output_type": "stream",
     "text": [
      "[[0. 0. 0. 0. 0.]\n",
      " [0. 0. 0. 0. 0.]\n",
      " [0. 0. 0. 0. 0.]]\n",
      "-----------------\n",
      "[[[1 1]\n",
      "  [1 1]]\n",
      "\n",
      " [[1 1]\n",
      "  [1 1]]\n",
      "\n",
      " [[1 1]\n",
      "  [1 1]]\n",
      "\n",
      " [[1 1]\n",
      "  [1 1]]]\n"
     ]
    }
   ],
   "source": [
    "import numpy as np\n",
    "#產生3.5裡面數值皆為0的陣列\n",
    "print(np.zeros((3,5))) \n",
    "print('-----------------')\n",
    "# 也可以指定元素的type\n",
    "print(np.ones((4,2,2),dtype=\"int32\"))"
   ]
  },
  {
   "cell_type": "markdown",
   "id": "a582cbc1",
   "metadata": {},
   "source": [
    "產生填滿指定數字的陣列: np.full((the shape),the value)"
   ]
  },
  {
   "cell_type": "code",
   "execution_count": 6,
   "id": "832e4dd6",
   "metadata": {},
   "outputs": [
    {
     "name": "stdout",
     "output_type": "stream",
     "text": [
      "[[99 99 99]\n",
      " [99 99 99]\n",
      " [99 99 99]]\n",
      "-----------------\n",
      "[[5 5 5 5 5 5 5]\n",
      " [5 5 5 5 5 5 5]]\n"
     ]
    }
   ],
   "source": [
    "import numpy as np\n",
    "#上面我們看到內建可以創造都是0或1的語法，如果我們想要創其他數值的話\n",
    "#可以使用np.full((the shpae),the value)\n",
    "#當我們想創建填滿99的3*3陣列\n",
    "d=np.full((3,3),99)\n",
    "print(d)\n",
    "print('-----------------')\n",
    "#陣列的shape也可以用已經使用過的其他陣列的形狀\n",
    "#語法是.full_like(陣列名稱, 數值）\n",
    "#先創立一個叫做a的2*7陣列\n",
    "a = np.array([[1,2,3,4,5,6,7],[8,9,10,11,12,13,14]])\n",
    "#想要創造跟a一樣形狀的陣列，只需要更改變數\n",
    "#假如我想要創造一個跟a一樣形狀，裡面數值皆為5的陣列\n",
    "e=np.full_like(a, 5)\n",
    "print(e)"
   ]
  },
  {
   "cell_type": "markdown",
   "id": "9b9c66ce",
   "metadata": {},
   "source": [
    "e. 產生隨機陣列： .random.rand(shape)\n",
    "\n",
    "產生指定在數值範圍內＋指定形狀： random.randint(startvalue, endvalue, size=()）"
   ]
  },
  {
   "cell_type": "markdown",
   "id": "2c3feb1b",
   "metadata": {},
   "source": [
    "產生identity matrix : .identity( )"
   ]
  },
  {
   "cell_type": "code",
   "execution_count": 8,
   "id": "8e402d18",
   "metadata": {},
   "outputs": [
    {
     "name": "stdout",
     "output_type": "stream",
     "text": [
      "[[1. 0. 0. 0. 0.]\n",
      " [0. 1. 0. 0. 0.]\n",
      " [0. 0. 1. 0. 0.]\n",
      " [0. 0. 0. 1. 0.]\n",
      " [0. 0. 0. 0. 1.]]\n"
     ]
    }
   ],
   "source": [
    "import numpy as np\n",
    "a=np.identity(5)\n",
    "print(a)"
   ]
  },
  {
   "cell_type": "markdown",
   "id": "23a3f58c",
   "metadata": {},
   "source": [
    "複製陣列： .repeat( )"
   ]
  },
  {
   "cell_type": "code",
   "execution_count": 9,
   "id": "0b08d204",
   "metadata": {},
   "outputs": [
    {
     "name": "stdout",
     "output_type": "stream",
     "text": [
      "[[1 2 3 4]\n",
      " [1 2 3 4]\n",
      " [1 2 3 4]]\n"
     ]
    }
   ],
   "source": [
    "import numpy as np\n",
    "# 當我們想要複製一維陣列幾次時\n",
    "arr = np.array([[1,2,3,4]]) #當我們想看到[1,2,3,4]以row的形式出現三行時\n",
    "r1 = np.repeat(arr,3,axis=0) #使用.repeat(陣列名稱，複製的次數，依照什麼維度) \n",
    "print(r1)"
   ]
  },
  {
   "cell_type": "markdown",
   "id": "eb60a853",
   "metadata": {},
   "source": [
    "取得陣列的資訊"
   ]
  },
  {
   "cell_type": "code",
   "execution_count": 13,
   "id": "3e708bb8",
   "metadata": {},
   "outputs": [
    {
     "name": "stdout",
     "output_type": "stream",
     "text": [
      "1\n",
      "2\n",
      "-----------------\n",
      "(3,)\n",
      "(2, 5)\n",
      "-----------------\n",
      "[[1 2 3 4]\n",
      " [5 6 7 8]]\n",
      "[[1]\n",
      " [2]\n",
      " [3]\n",
      " [4]\n",
      " [5]\n",
      " [6]\n",
      " [7]\n",
      " [8]]\n",
      "-----------------\n",
      "int32\n",
      "int32\n"
     ]
    }
   ],
   "source": [
    "import numpy as np\n",
    "# 建立一維陣列\n",
    "a=np.array([1,2,3])\n",
    "\n",
    "# 建立二維陣列\n",
    "b= np.array([[5,3,6,7,1],[1,2,3,4,5]])\n",
    "#取得維度資訊\n",
    "print(a.ndim) \n",
    "print(b.ndim)\n",
    "print('-----------------')\n",
    "# 使用.shape\n",
    "print(a.shape) #因為a只有一維度（一個row)\n",
    "print(b.shape) #因為b是2*5的二維矩陣\n",
    "print('-----------------')\n",
    "# 先建立原本的\n",
    "before = np.array([[1,2,3,4],[5,6,7,8]])\n",
    "print(before)\n",
    "\n",
    "# 改變成任意形狀\n",
    "after = before.reshape((8,1)) #改成8*1的矩陣\n",
    "print(after)\n"
   ]
  },
  {
   "cell_type": "markdown",
   "id": "b66db520",
   "metadata": {},
   "source": [
    "取得元素的資料型別: .dtype"
   ]
  },
  {
   "cell_type": "code",
   "execution_count": 22,
   "id": "c230d374",
   "metadata": {},
   "outputs": [
    {
     "name": "stdout",
     "output_type": "stream",
     "text": [
      "int64\n",
      "float64\n"
     ]
    }
   ],
   "source": [
    "import numpy as np\n",
    "# 建立一維陣列\n",
    "a=np.array([1,2,3])\n",
    "b= a.astype(np.int64)\n",
    "# 取得資料型態\n",
    "print(b.dtype)\n",
    "#int64\n",
    "\n",
    "#改變資料型態\n",
    "change = a.astype(np.float64) #指定他要變成浮點數的型態\n",
    "print(change.dtype) #印出來檢查看看\n",
    "#float64"
   ]
  },
  {
   "cell_type": "code",
   "execution_count": null,
   "id": "ab20708c",
   "metadata": {},
   "outputs": [],
   "source": []
  }
 ],
 "metadata": {
  "kernelspec": {
   "display_name": "py310",
   "language": "python",
   "name": "py310"
  },
  "language_info": {
   "codemirror_mode": {
    "name": "ipython",
    "version": 3
   },
   "file_extension": ".py",
   "mimetype": "text/x-python",
   "name": "python",
   "nbconvert_exporter": "python",
   "pygments_lexer": "ipython3",
   "version": "3.10.6"
  },
  "toc": {
   "base_numbering": 1,
   "nav_menu": {},
   "number_sections": true,
   "sideBar": true,
   "skip_h1_title": false,
   "title_cell": "Table of Contents",
   "title_sidebar": "Contents",
   "toc_cell": false,
   "toc_position": {},
   "toc_section_display": true,
   "toc_window_display": false
  }
 },
 "nbformat": 4,
 "nbformat_minor": 5
}
