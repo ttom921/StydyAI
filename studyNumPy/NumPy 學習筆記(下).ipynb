{
 "cells": [
  {
   "cell_type": "markdown",
   "id": "fb9b66d8",
   "metadata": {},
   "source": [
    "陣列的數學運算\n",
    "基礎運算(加、減、乘、除、次方）"
   ]
  },
  {
   "cell_type": "code",
   "execution_count": 3,
   "id": "f89ef1fa",
   "metadata": {},
   "outputs": [
    {
     "name": "stdout",
     "output_type": "stream",
     "text": [
      "+ : [3 4 5 6]\n",
      "- : [-1  0  1  2]\n",
      "* : [2 4 6 8]\n",
      "/ : [0.5 1.  1.5 2. ]\n",
      "** : [ 1  4  9 16]\n"
     ]
    }
   ],
   "source": [
    "import numpy as np\n",
    "#先創一個一維陣列\n",
    "a = np.array([1,2,3,4])\n",
    "\n",
    "# calaulations\n",
    "print(\"+ :\", a+2) #a+=2\n",
    "print(\"- :\", a-2)\n",
    "print(\"* :\", a*2)\n",
    "print(\"/ :\", a/2)\n",
    "print(\"** :\",a**2)"
   ]
  },
  {
   "cell_type": "markdown",
   "id": "8e6c4a22",
   "metadata": {},
   "source": [
    "也可以使用在多個同樣形狀的矩陣\n"
   ]
  },
  {
   "cell_type": "code",
   "execution_count": 4,
   "id": "5c2c77f5",
   "metadata": {},
   "outputs": [
    {
     "name": "stdout",
     "output_type": "stream",
     "text": [
      "+ : [ 2 57  4 59]\n",
      "- : [  0 -53   2 -51]\n",
      "* : [  1 110   3 220]\n",
      "/ : [1.         0.03636364 3.         0.07272727]\n"
     ]
    }
   ],
   "source": [
    "import numpy as np\n",
    "b = np.array([1,55,1,55])\n",
    "\n",
    "print(\"+ :\", a+b) #也等同於 a+=2\n",
    "print(\"- :\", a-b)\n",
    "print(\"* :\", a*b)\n",
    "print(\"/ :\", a/b)"
   ]
  },
  {
   "cell_type": "markdown",
   "id": "e1aec114",
   "metadata": {},
   "source": [
    "sin, cos : np.sin( ) , np.cos( )"
   ]
  },
  {
   "cell_type": "code",
   "execution_count": 5,
   "id": "79e70789",
   "metadata": {},
   "outputs": [
    {
     "name": "stdout",
     "output_type": "stream",
     "text": [
      "[ 0.84147098  0.90929743  0.14112001 -0.7568025 ]\n",
      "[ 0.54030231 -0.41614684 -0.9899925  -0.65364362]\n"
     ]
    }
   ],
   "source": [
    "import numpy as np\n",
    "#先創一個一維陣列\n",
    "a = np.array([1,2,3,4])\n",
    "\n",
    "print(np.sin(a))\n",
    "print(np.cos(a))"
   ]
  },
  {
   "cell_type": "markdown",
   "id": "bbbabdd9",
   "metadata": {},
   "source": [
    "簡單線性代數:"
   ]
  },
  {
   "cell_type": "code",
   "execution_count": 7,
   "id": "0fa77c10",
   "metadata": {},
   "outputs": [
    {
     "name": "stdout",
     "output_type": "stream",
     "text": [
      "[[1. 1. 1.]\n",
      " [1. 1. 1.]]\n",
      "------\n",
      "[[2 2]\n",
      " [2 2]\n",
      " [2 2]]\n",
      "------\n",
      "[[6. 6.]\n",
      " [6. 6.]]\n"
     ]
    }
   ],
   "source": [
    "import numpy as np\n",
    "\n",
    "a = np.ones((2,3))\n",
    "print(a)\n",
    "\n",
    "print(\"------\")\n",
    "\n",
    "b = np.full((3,2),2)\n",
    "print(b)\n",
    "\n",
    "print(\"------\")\n",
    "\n",
    "# matrix multiply function(.matmul(matrix1, matrix2))\n",
    "print(np.matmul(a,b)) #也可以使用print(a.dot(b))"
   ]
  },
  {
   "cell_type": "markdown",
   "id": "2dcff1c0",
   "metadata": {},
   "source": [
    "基礎統計：\n",
    " 平均數: np.mean( )\n",
    " 最小值: np.min( )\n",
    " 最大值: np.max( )\n",
    " 總合：np.sum( )"
   ]
  },
  {
   "cell_type": "code",
   "execution_count": 13,
   "id": "0b725df9",
   "metadata": {},
   "outputs": [
    {
     "name": "stdout",
     "output_type": "stream",
     "text": [
      "[[1 2 3]\n",
      " [4 5 6]]\n",
      "------\n",
      "min: 1\n",
      "row basis: [1 4]\n",
      "max: 6\n",
      "column basis: [4 5 6]\n",
      "row sum: [ 6 15]\n",
      "column sum: [5 7 9]\n"
     ]
    }
   ],
   "source": [
    "import numpy as np\n",
    "#先創陣列\n",
    "stats = np.array([[1,2,3],[4,5,6]])\n",
    "print(stats)\n",
    "print(\"------\")\n",
    "# 平均值，最大值，最小值\n",
    "print(\"min:\",np.min(stats))#會取得整個矩陣的最小值\n",
    "# 若是想取得每個row的最小值\n",
    "print(\"row basis:\",np.min(stats, axis=1)) \n",
    "# 同樣的方法操作在最大值一次\n",
    "print(\"max:\", np.max(stats)) #若不指定軸度，將會是整個矩陣的最大值\n",
    "print(\"column basis:\", np.max(stats, axis=0)) #沿著column取最大值\n",
    "#計算總和\n",
    "print(\"row sum:\", np.sum(stats,axis=1)) \n",
    "# sums up by column\n",
    "print(\"column sum:\", np.sum(stats, axis=0)) \n",
    "\n",
    "#沿著每個row計算：axis = 1\n",
    "#沿著每個column計算：axis = 0"
   ]
  },
  {
   "cell_type": "markdown",
   "id": "9b9aba9b",
   "metadata": {},
   "source": []
  },
  {
   "cell_type": "code",
   "execution_count": null,
   "id": "3ed65f99",
   "metadata": {},
   "outputs": [],
   "source": []
  }
 ],
 "metadata": {
  "kernelspec": {
   "display_name": "py310",
   "language": "python",
   "name": "py310"
  },
  "language_info": {
   "codemirror_mode": {
    "name": "ipython",
    "version": 3
   },
   "file_extension": ".py",
   "mimetype": "text/x-python",
   "name": "python",
   "nbconvert_exporter": "python",
   "pygments_lexer": "ipython3",
   "version": "3.10.6"
  },
  "toc": {
   "base_numbering": 1,
   "nav_menu": {},
   "number_sections": true,
   "sideBar": true,
   "skip_h1_title": false,
   "title_cell": "Table of Contents",
   "title_sidebar": "Contents",
   "toc_cell": false,
   "toc_position": {},
   "toc_section_display": true,
   "toc_window_display": false
  }
 },
 "nbformat": 4,
 "nbformat_minor": 5
}
