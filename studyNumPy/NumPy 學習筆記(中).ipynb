{
 "cells": [
  {
   "cell_type": "markdown",
   "id": "a8ebfe83",
   "metadata": {},
   "source": [
    "[{DAY 13} NumPy 學習筆記(中） - iT 邦幫忙::一起幫忙解決難題，拯救 IT 人的一天](https://ithelp.ithome.com.tw/articles/10270218)"
   ]
  },
  {
   "cell_type": "markdown",
   "id": "d625c87f",
   "metadata": {},
   "source": [
    "透過索引值提取單筆資料"
   ]
  },
  {
   "cell_type": "markdown",
   "id": "f655657d",
   "metadata": {},
   "source": [
    "一維陣列： [索引值] 只需要在括號裡加上索引值即可"
   ]
  },
  {
   "cell_type": "code",
   "execution_count": 2,
   "id": "74f15658",
   "metadata": {},
   "outputs": [
    {
     "name": "stdout",
     "output_type": "stream",
     "text": [
      "3\n"
     ]
    }
   ],
   "source": [
    "import numpy as np\n",
    "arr = np.array([1,2,3])\n",
    "a=arr[2] #這裡想要取得索引值為2的數值\n",
    "print(a)"
   ]
  },
  {
   "cell_type": "markdown",
   "id": "eb2887f1",
   "metadata": {},
   "source": [
    "二維陣列：[row, column] ([第一維的索引值, 第二維的索引值])"
   ]
  },
  {
   "cell_type": "code",
   "execution_count": 5,
   "id": "af8b4248",
   "metadata": {},
   "outputs": [
    {
     "name": "stdout",
     "output_type": "stream",
     "text": [
      "[[ 1  2  3  4  5  6  7]\n",
      " [ 8  9 10 11 12 13 14]]\n",
      "13\n",
      "13\n"
     ]
    }
   ],
   "source": [
    "import numpy as np\n",
    "#創建二維陣列\n",
    "a = np.array([[1,2,3,4,5,6,7],[8,9,10,11,12,13,14]])\n",
    "print(a)\n",
    "\n",
    "# 在二維陣列裡使用[row,column]，\n",
    "# 前面放的是要取的第一個維度（row)，後面放的是第二個維度(column)\n",
    "b=a[1,5] # 使用a[1,-2]也可取得同樣位置 ＃也可表示為a[1][5]\n",
    "print(b)\n",
    "c=a[1,-2]\n",
    "print(c)"
   ]
  },
  {
   "cell_type": "markdown",
   "id": "9b6fe160",
   "metadata": {},
   "source": [
    "透過切片取出特定元素內容：\" : \""
   ]
  },
  {
   "cell_type": "markdown",
   "id": "729723a5",
   "metadata": {},
   "source": [
    "一維陣列："
   ]
  },
  {
   "cell_type": "code",
   "execution_count": 7,
   "id": "ee61e110",
   "metadata": {},
   "outputs": [
    {
     "name": "stdout",
     "output_type": "stream",
     "text": [
      "[0 1 2 3 4 5 6 7 8 9]\n",
      "[5 6 7 8 9]\n",
      "[0 1 2 3 4]\n"
     ]
    }
   ],
   "source": [
    "import numpy as np\n",
    "arr1 = np.arange(0, 10)\n",
    "print(arr1)\n",
    "'''array([0, 1, 2, 3, 4, 5, 6, 7, 8, 9])'''\n",
    "arr2=arr1[5:] #想取得索引值為5之後所有的數值\n",
    "'''array([5, 6, 7, 8, 9])'''\n",
    "print(arr2)\n",
    "arr3=arr1[:5] #想取得索引值為5之前的所有數值\n",
    "'''array([0, 1, 2, 3, 4])'''\n",
    "print(arr3)"
   ]
  },
  {
   "cell_type": "markdown",
   "id": "b7a483eb",
   "metadata": {},
   "source": [
    "二維陣列："
   ]
  },
  {
   "cell_type": "code",
   "execution_count": 20,
   "id": "63f949d4",
   "metadata": {},
   "outputs": [
    {
     "name": "stdout",
     "output_type": "stream",
     "text": [
      "[[ 1  2  3  4  5  6  7]\n",
      " [ 8  9 10 11 12 13 14]]\n",
      "---------------\n",
      "[1 2 3 4 5 6 7]\n",
      "[ 3 10]\n",
      "[[1 2 3 4 5 6 7]]\n",
      "---------------\n",
      "[ 8  9 10 11 12 13 14]\n"
     ]
    }
   ],
   "source": [
    "import numpy as np\n",
    "#創建二維陣列\n",
    "a = np.array([[1,2,3,4,5,6,7],[8,9,10,11,12,13,14]])\n",
    "print(a)\n",
    "print('---------------')\n",
    "# 當我們要取得特定的row時\n",
    "arr1=a[0,:]  # 在第二個維度選項時使用 \":\"，可以取得第1個row裡所有的值\n",
    "''' array([1, 2, 3, 4, 5, 6, 7])'''\n",
    "print(arr1)\n",
    "# 當我們要取得特定的column\n",
    "arr2=a[:, 2]# 在第一個維度選項時使用 \":\"，可以取得第2個column裡所有的值\n",
    "'''array([ 3, 10])''' #第二列裡的兩個值就被取出來了\n",
    "print(arr2)\n",
    "# 橫向切片\n",
    "arr3=a[:1]\n",
    "'''array([[1, 2, 3, 4, 5, 6, 7]])'''\n",
    "print(arr3)\n",
    "print('---------------')\n",
    "arr4=a[1,:]\n",
    "print(arr4)"
   ]
  },
  {
   "cell_type": "markdown",
   "id": "24e2e93b",
   "metadata": {},
   "source": [
    "按照指定間隔取值：[start index : end index: step size]"
   ]
  },
  {
   "cell_type": "markdown",
   "id": "77951af9",
   "metadata": {},
   "source": [
    "一維陣列"
   ]
  },
  {
   "cell_type": "code",
   "execution_count": 22,
   "id": "1e2b523e",
   "metadata": {},
   "outputs": [
    {
     "name": "stdout",
     "output_type": "stream",
     "text": [
      "[ 0  1  2  3  4  5  6  7  8  9 10 11 12]\n",
      "[ 0  2  4  6  8 10 12]\n",
      "[ 0  4  8 12]\n"
     ]
    },
    {
     "data": {
      "text/plain": [
       "'[ 0  4  8 12]'"
      ]
     },
     "execution_count": 22,
     "metadata": {},
     "output_type": "execute_result"
    }
   ],
   "source": [
    "import numpy as np\n",
    "#首先先建立一個1~12的一維陣列\n",
    "prac = np.arange(13)\n",
    "print(prac)\n",
    "\n",
    "#若是我們想要他以偶數形式出現，step size設為2\n",
    "even_num = prac[0:13:2]\n",
    "'''[ 0  2  4  6  8 10 12]'''\n",
    "print(even_num)\n",
    "\n",
    "#若是想要出現0,4,8,12, stepsize要設為4\n",
    "print(prac[0:13:4])\n",
    "'''[ 0  4  8 12]'''"
   ]
  },
  {
   "cell_type": "markdown",
   "id": "a600591c",
   "metadata": {},
   "source": [
    "二維陣列"
   ]
  },
  {
   "cell_type": "code",
   "execution_count": 23,
   "id": "a76a2c4e",
   "metadata": {},
   "outputs": [
    {
     "name": "stdout",
     "output_type": "stream",
     "text": [
      "[[ 1  2  3  4  5  6  7]\n",
      " [ 8  9 10 11 12 13 14]]\n",
      "[2 4 6]\n"
     ]
    },
    {
     "data": {
      "text/plain": [
       "'array([2, 4, 6])'"
      ]
     },
     "execution_count": 23,
     "metadata": {},
     "output_type": "execute_result"
    }
   ],
   "source": [
    "import numpy as np\n",
    "# 在二維陣列中，我們先來看原本的a長怎樣\n",
    "a = np.array([[1,2,3,4,5,6,7],[8,9,10,11,12,13,14]])\n",
    "print(a)\n",
    "'''[[ 1  2  3  4  5  6  7] [ 8  9 10 11 12 13 14]]'''\n",
    "\n",
    "# 如果我們想要看到 2,4,6\n",
    "# [從第一個row裡面去查, (start with 2:  end in 5: stepsize 2)] \n",
    "print(a[0, 1:6:2]) # 從後面開始算可以使用（-1) : a[0, 1:-1:2]\n",
    "'''array([2, 4, 6])'''"
   ]
  },
  {
   "cell_type": "markdown",
   "id": "5926e1ce",
   "metadata": {},
   "source": [
    "更新值：直接用索引值取代原本的值"
   ]
  },
  {
   "cell_type": "code",
   "execution_count": 25,
   "id": "d56f3ef7",
   "metadata": {},
   "outputs": [
    {
     "name": "stdout",
     "output_type": "stream",
     "text": [
      "[[ 1  2  3  4  5  6  7]\n",
      " [ 8  9 10 11 12 13 14]]\n",
      "[[  1   2  55   4   5   6   7]\n",
      " [  8   9  55  11  12 200  14]]\n"
     ]
    }
   ],
   "source": [
    "import numpy as np\n",
    "#創建二維陣列\n",
    "a = np.array([[1,2,3,4,5,6,7],[8,9,10,11,12,13,14]])\n",
    "print(a)\n",
    "'''[[ 1  2  3  4  5  6  7] [ 8  9 10 11 12 13 14]]'''\n",
    "\n",
    "#當我們想要把13換成200\n",
    "a[1,5] = 200 # 13的索引值為[1,5]替換成200\n",
    "'''[[  1   2   3   4   5   6   7]\n",
    " [  8   9  10  11  12 200  14]]'''\n",
    "\n",
    "#當我們想要改掉整個row或是column\n",
    "a[:,2] = 55 # 想要把第二個column改成55\n",
    "'''[[  1   2  55   4   5   6   7]\n",
    " [  8   9  55  11  12 200  14]]'''\n",
    "print(a)"
   ]
  },
  {
   "cell_type": "markdown",
   "id": "45c78391",
   "metadata": {},
   "source": [
    "刪除資料：np.delete(陣列名稱, 索引值, axis=None)"
   ]
  },
  {
   "cell_type": "code",
   "execution_count": 26,
   "id": "a62f89f9",
   "metadata": {},
   "outputs": [
    {
     "name": "stdout",
     "output_type": "stream",
     "text": [
      "[ 5  6  7  8  9 10 11 12 13 14 15 16]\n",
      "[ 5  6  7  9 10 11 12 13 14 15 16]\n",
      "[10 11 12 13 14 15 16]\n"
     ]
    },
    {
     "data": {
      "text/plain": [
       "'[10 11 12 13 14 15 16] '"
      ]
     },
     "execution_count": 26,
     "metadata": {},
     "output_type": "execute_result"
    }
   ],
   "source": [
    "import numpy as np\n",
    "# 首先創建任意數列\n",
    "arr = np.arange(5,17)\n",
    "print(arr)\n",
    "'''[ 5  6  7  8  9 10 11 12 13 14 15 16]'''\n",
    "\n",
    "#當我們想要刪除8的話（索引值為3)\n",
    "print(np.delete(arr,3))\n",
    "'''[ 5  6  7  9 10 11 12 13 14 15 16] '''\n",
    "# 可以看到8不見了\n",
    "\n",
    "#使用切片的方法，指定切片位置\n",
    "#當我們想要切掉5~9的時候\n",
    "print(np.delete(arr,slice(0,5)))\n",
    "'''[10 11 12 13 14 15 16] '''"
   ]
  },
  {
   "cell_type": "markdown",
   "id": "198db2fe",
   "metadata": {},
   "source": [
    "複製陣列：.copy()"
   ]
  },
  {
   "cell_type": "code",
   "execution_count": 28,
   "id": "6d7ebe4d",
   "metadata": {},
   "outputs": [
    {
     "name": "stdout",
     "output_type": "stream",
     "text": [
      "[100   2   3]\n",
      "[100   2   3]\n",
      "------------\n",
      "[100   2   3]\n",
      "[1 2 3]\n"
     ]
    },
    {
     "data": {
      "text/plain": [
       "'\\n[100   2   3]\\n[1 2 3]'"
      ]
     },
     "execution_count": 28,
     "metadata": {},
     "output_type": "execute_result"
    }
   ],
   "source": [
    "import numpy as np\n",
    "#當我們複製陣列的時候要很小心是否會影響到原本的陣列\n",
    "#首先來看個例子\n",
    "a = np.array([1,2,3])\n",
    "b = a\n",
    "b[0] = 100 #如果想把ｂ裡面的1改成100\n",
    "print(b)\n",
    "print(a)\n",
    "'''\n",
    "[100   2   3]\n",
    " [100   2   3]'''\n",
    "# 我們可以看到a的1也同時變為100\n",
    "print('------------')\n",
    "# 應該使用.copy()的語法 避免更改到原始值\n",
    "a = np.array([1,2,3])\n",
    "b = a.copy()\n",
    "b[0] = 100\n",
    "print(b)\n",
    "print(a)\n",
    "'''\n",
    "[100   2   3]\n",
    "[1 2 3]'''\n",
    "# 可以看到使用copy後就不會更改到a的原始數值"
   ]
  },
  {
   "cell_type": "markdown",
   "id": "d94ee9fd",
   "metadata": {},
   "source": [
    "多個矩陣相加：\n",
    " 垂直相加 .vstack( )\n",
    " 水平相加 hstack( )"
   ]
  },
  {
   "cell_type": "code",
   "execution_count": 31,
   "id": "0f79c3b5",
   "metadata": {},
   "outputs": [
    {
     "name": "stdout",
     "output_type": "stream",
     "text": [
      "[[1 2 3 4]\n",
      " [5 6 7 8]]\n",
      "---------\n",
      "[[1 2 3 4]\n",
      " [5 6 7 8]\n",
      " [1 2 3 4]\n",
      " [5 6 7 8]]\n",
      "---------\n",
      "[[0. 0. 0. 0. 0. 0.]\n",
      " [0. 0. 0. 0. 0. 0.]]\n"
     ]
    }
   ],
   "source": [
    "import numpy as np\n",
    "# 垂直方向上相加矩陣\n",
    "v1 = np.array([1,2,3,4])\n",
    "v2 = np.array([5,6,7,8])\n",
    "\n",
    "print(np.vstack([v1,v2])) #先看看兩個矩陣加起來的樣子\n",
    "print(\"---------\")\n",
    "print(np.vstack([v1,v2,v1,v2]))\n",
    "'''\n",
    "[[1 2 3 4]\n",
    " [5 6 7 8]]\n",
    "---------\n",
    "[[1 2 3 4]\n",
    " [5 6 7 8]\n",
    " [1 2 3 4]\n",
    " [5 6 7 8]]'''\n",
    "print(\"---------\")\n",
    "#水平方向上相加矩陣\n",
    "h1 = np.zeros((2,4))\n",
    "h2 = np.zeros((2,2))\n",
    "arr=np.hstack((h1,h2))\n",
    "'''array([[0., 0., 0., 0., 0., 0.],\n",
    "       [0., 0., 0., 0., 0., 0.]])'''\n",
    "print(arr)"
   ]
  },
  {
   "cell_type": "markdown",
   "id": "9db4cffe",
   "metadata": {},
   "source": [
    "用三維度陣列練習基礎語法"
   ]
  },
  {
   "cell_type": "code",
   "execution_count": 34,
   "id": "edbebf7f",
   "metadata": {},
   "outputs": [
    {
     "name": "stdout",
     "output_type": "stream",
     "text": [
      "[[[1 2]\n",
      "  [3 4]]\n",
      "\n",
      " [[5 6]\n",
      "  [7 8]]]\n",
      "4\n",
      "[[1 2]\n",
      " [5 6]]\n",
      "-----\n",
      "[1 5]\n",
      "[[3 4]\n",
      " [7 8]]\n",
      "[[[1 2]\n",
      "  [9 9]]\n",
      "\n",
      " [[5 6]\n",
      "  [8 8]]]\n"
     ]
    },
    {
     "data": {
      "text/plain": [
       "'\\n [[[1 2]\\n  [9 9]]\\n\\n [[5 6]\\n  [8 8]]]\\n'"
      ]
     },
     "execution_count": 34,
     "metadata": {},
     "output_type": "execute_result"
    }
   ],
   "source": [
    "import numpy as np\n",
    "b= np.array([[[1,2],[3,4]],[[5,6],[7,8]]])\n",
    "print(b)\n",
    "'''\n",
    "[[[1 2]\n",
    "  [3 4]]\n",
    "\n",
    " [[5 6]\n",
    "  [7 8]]]'''\n",
    "\n",
    "# []內的索引值要從外到內寫\n",
    "# 如果想要查到4\n",
    "# 從第1個維度的第0個row > 第2個維度的第1個索引值 > 第3個維度的第２個索引值\n",
    "print(b[0,1,1])\n",
    "'''４'''\n",
    "\n",
    "# get more fancy\n",
    "print(b[:,0,:]) # 第1個維度的全部 > 第2個維度的第0個索引值 > 第3個維度的全部\n",
    "print(\"-----\")\n",
    "print(b[:,0,0]) # 第1個索引值的全部 > 第2個維度的第0個索引值 > 第3個維度的第0個索引值\n",
    "'''\n",
    "[[1 2]\n",
    " [5 6]]\n",
    "-----\n",
    "[1 5]'''\n",
    "# 先隨便找一個位置\n",
    "print(b[:,1,:]) # 看他長怎樣\n",
    "'''\n",
    "[[3 4]\n",
    " [7 8]]'''\n",
    "\n",
    "#當我們發現他是2*2的陣列時，替換成隨意的他值\n",
    "b[:,1,:] = [[9,9],[8,8]]\n",
    "print(b) #重新看b印出來會怎樣\n",
    "'''\n",
    " [[[1 2]\n",
    "  [9 9]]\n",
    "\n",
    " [[5 6]\n",
    "  [8 8]]]\n",
    "'''"
   ]
  }
 ],
 "metadata": {
  "kernelspec": {
   "display_name": "py310",
   "language": "python",
   "name": "py310"
  },
  "language_info": {
   "codemirror_mode": {
    "name": "ipython",
    "version": 3
   },
   "file_extension": ".py",
   "mimetype": "text/x-python",
   "name": "python",
   "nbconvert_exporter": "python",
   "pygments_lexer": "ipython3",
   "version": "3.10.6"
  },
  "toc": {
   "base_numbering": 1,
   "nav_menu": {},
   "number_sections": true,
   "sideBar": true,
   "skip_h1_title": false,
   "title_cell": "Table of Contents",
   "title_sidebar": "Contents",
   "toc_cell": false,
   "toc_position": {},
   "toc_section_display": true,
   "toc_window_display": false
  }
 },
 "nbformat": 4,
 "nbformat_minor": 5
}
